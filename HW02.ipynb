{
 "cells": [
  {
   "cell_type": "markdown",
   "id": "bb69b39a",
   "metadata": {},
   "source": [
    "# Chat Logs and Summaries\n",
    "\n",
    "### Questions 1 to 3:\n",
    "\n",
    "##### [Link to chat log](https://chatgpt.com/share/66ecc1a4-18bc-8002-9f7f-d1f9fcc18d0e)\n",
    "\n",
    "##### Chatbot-provided summary: \n",
    "\"Here's a summary of our chat session:\n",
    "\n",
    "1. **Monty Hall Problem Simulation Explanation**: We walked through your initial Monty Hall problem simulation code. I explained how each part of the code works, particularly how the simulation implements the \"always switch\" strategy to estimate the probability of winning.\n",
    "\n",
    "2. **Code Simplification**: I suggested a streamlined version of your Monty Hall simulation, reducing unnecessary complexity and improving readability, while maintaining the logic of revealing a goat and switching doors.\n",
    "\n",
    "3. **Further Simplification**: You pointed out that a part of the code could be further simplified, specifically the list comprehension used for `remaining_doors`. I then provided a more compact version of the simulation that uses direct values for remaining doors and simpler arithmetic to calculate the revealed goat door and the switch choice.\n",
    "\n",
    "Let me know if you'd like any further clarifications or changes!\""
   ]
  },
  {
   "cell_type": "markdown",
   "id": "e015efcf",
   "metadata": {},
   "source": [
    "\n",
    "### Questions 4 to 5.2:\n",
    "\n",
    "##### [Link to chat log](https://chatgpt.com/share/66ecbe6e-af24-8002-bb85-92f6c0eec642)\n",
    "\n",
    "##### Chatbot-provided summary:\n",
    "\n",
    "\"Here's a summary of our chat session:\n",
    "\n",
    "1. **Initial Code - Markov Chain Chatbot**:\n",
    "   - The original code creates a first-order Markov chain that tracks word frequencies and transitions between words. This allows the chatbot to predict the next word based on the current word, generating text that reflects common word pairings.\n",
    "\n",
    "2. **Extension #1 - Second-Order Markov Chain**:\n",
    "   - The first extension enhances the model to a second-order Markov chain, tracking transitions between **word pairs** (bigrams) and their subsequent word. This improves sentence coherence by considering more context (two words) for predictions.\n",
    "\n",
    "3. **Extension #2 - Character-Specific Markov Chain**:\n",
    "   - The second extension introduces **character-based modeling**. It tracks speech patterns (word transitions) for different characters from a dataset, allowing the chatbot to generate dialogue that mimics the speaking style of each character individually.\n",
    "\n",
    "Each extension builds on the previous one to create a more complex and context-aware chatbot, capable of generating more coherent and character-specific dialogue.\""
   ]
  },
  {
   "cell_type": "markdown",
   "id": "0cf271fe",
   "metadata": {},
   "source": [
    "### Question 5.3:\n",
    "\n",
    "##### [Link to chat log](https://chatgpt.com/share/66ecbe6e-af24-8002-bb85-92f6c0eec642)\n",
    "\n",
    "##### Chatbot-provided summary:\n",
    "\n",
    "\"In this session, we discussed two pieces of code related to building a Markovian chatbot:\n",
    "\n",
    "1. **Initial Markov Model**: \n",
    "   - You shared a code snippet that builds a Markov model from word pairs. I provided an enhanced version using `defaultdict` to simplify counting word transitions, and included an example for generating sentences using the model.\n",
    "\n",
    "2. **Extended Markov Model by Character**:\n",
    "   - The second code you shared adds complexity by processing a dataset (`avatar.character`) and building word transitions specifically for each character. It tracks two-word combinations and the next word in a character's dialogue, creating a Markov model that can mimic different characters' speech patterns.\n",
    "\n",
    "Let me know if you need further clarification or help with the code!\""
   ]
  },
  {
   "cell_type": "markdown",
   "id": "905118e6",
   "metadata": {},
   "source": [
    "### Questions 8.1 to 8.3:\n",
    "\n",
    "##### [Link to chat log](https://chatgpt.com/share/66ecc399-4ecc-8002-a99f-eb16fb8ee5f3)\n",
    "\n",
    "##### Chatbot-provided summary:\n",
    "\n",
    "\"In this session, we discussed key skills relevant to various careers in the data industry:\n",
    "\n",
    "1. **Data Industry Skills**: \n",
    "   - **Learning and adaptability**, **communication**, **coding**, and **statistics & data analysis** are essential for roles like data scientist and data analyst. These skills enable professionals to handle evolving technologies, communicate insights effectively, automate tasks, and interpret data meaningfully.\n",
    "\n",
    "2. **Coding and Data Analysis for Statisticians and Data Scientists**: \n",
    "   - Coding and data analysis are crucial for success in these fields. While there are low-code solutions, most advanced work requires a deep understanding of both coding (e.g., Python, SQL) and hands-on data analysis.\n",
    "\n",
    "3. **Skills for Database Development**:\n",
    "   - Key skills include **SQL proficiency**, **database design and modeling**, **performance optimization**, **data security**, and **knowledge of cloud databases**. Familiarity with programming, cloud platforms, version control, and collaboration are also important for this career.\n",
    "\n",
    "Each career emphasizes a mix of technical and soft skills, with coding and problem-solving being central across roles.\""
   ]
  },
  {
   "cell_type": "markdown",
   "id": "7b2047eb",
   "metadata": {},
   "source": [
    "---\n",
    "# Question Responses"
   ]
  },
  {
   "cell_type": "markdown",
   "id": "687ebb75",
   "metadata": {},
   "source": [
    "##### Questions 1 to 2:\n",
    "(See chat logs/summaries)"
   ]
  },
  {
   "cell_type": "markdown",
   "id": "058305e5",
   "metadata": {},
   "source": [
    "##### Question 3:"
   ]
  },
  {
   "cell_type": "code",
   "execution_count": 6,
   "id": "cd93bdf5",
   "metadata": {},
   "outputs": [
    {
     "data": {
      "text/plain": [
       "0.66556"
      ]
     },
     "execution_count": 6,
     "metadata": {},
     "output_type": "execute_result"
    }
   ],
   "source": [
    "import numpy as np\n",
    "\n",
    "# Initialize parameters\n",
    "reps = 100000\n",
    "wins = 0\n",
    "\n",
    "for _ in range(reps):\n",
    "    # Randomly set the winning door (1, 2, or 3)\n",
    "    winning_door = np.random.randint(1, 4)\n",
    "    \n",
    "    # The contestant initially picks door 1\n",
    "    initial_choice = 1\n",
    "\n",
    "    # Host reveals a goat door\n",
    "    if initial_choice == winning_door:\n",
    "        # If the initial choice is the winning door, host can open either of the two losing doors\n",
    "        remaining_doors = [2, 3]\n",
    "        revealed_goat_door = np.random.choice(remaining_doors)\n",
    "    else:\n",
    "        # If the initial choice is not the winning door, host reveals the only other losing door\n",
    "        revealed_goat_door = 5 - winning_door  # If winning_door is 2, revealed_goat_door is 3; if 3, it's 2.\n",
    "\n",
    "    # Switching means choosing the other unopened door\n",
    "    switch_choice = 6 - initial_choice - revealed_goat_door  # The remaining door that wasn't picked or revealed.\n",
    "\n",
    "    # Check if the switch wins\n",
    "    if switch_choice == winning_door:\n",
    "        wins += 1\n",
    "\n",
    "# Probability of winning by switching\n",
    "win_probability = wins / reps\n",
    "win_probability"
   ]
  },
  {
   "cell_type": "markdown",
   "id": "25a56dbc",
   "metadata": {},
   "source": [
    "##### Questions 4 to 5:\n",
    "(See chat logs/summaries)"
   ]
  },
  {
   "cell_type": "markdown",
   "id": "c9040165",
   "metadata": {},
   "source": [
    "##### Question 6.1:\n",
    "The chatbot was able to be helpful fairly quickly for all the questions overall, providing simple explanations as to the function of every part of the code.\n",
    "\n",
    "##### Question 6.2:\n",
    "Interacting with the chatbot to figure things out was somewhat frustrating in that it occasionally left out details about the code or focused in too narrowly on one part of the code without explaining its greater function in the context of the entire code excerpt or made mistakes, requiring me to notice the absence of information and either prompt it further or figure it out myself. Due to the nature of chatbots, it is also more difficult to spot mistakes in their explanations compared to other ways of making sense of code (such as human explanations or reading it yourself), since they generally do not express uncertainty and their explanations initially appear accurate on the surface.\n",
    "\n",
    "##### Question 6.3:\n",
    "Chatbots as tools to help understand code are mainly specifically useful for understanding relatively short passages of code that aren't overly complex, as for longer and more involved pieces of code, perhaps spanning multiple classes that work together to accomplish a precise purpose, they become more and more error-prone. Similarly, for troubleshooting coding errors, they work wonderfully for simpler programs with simpler errors, but for more complex programs, even just describing an error to a chatbot can be difficult as you must first explain how the program functions, what you want it do, and what the unwanted behaviour is (especially in the case of, for example, logical errors that don't provide any error message). It may also be tedious to upload programs to chatbots when they span a large number of files."
   ]
  },
  {
   "cell_type": "markdown",
   "id": "969e0621",
   "metadata": {},
   "source": [
    "##### Question 7:\n",
    "My perception of AI-driven assistance tools in this context has slightly evolved in that I've realized that they may be useful for offering ideas on how to improve code. Other than that, however, not much as changed."
   ]
  },
  {
   "cell_type": "markdown",
   "id": "2c8cff4e",
   "metadata": {},
   "source": [
    "##### Questions 8.1-8.3\n",
    "(See chat logs/summaries)\n",
    "\n",
    "##### Question 8.4 :\n",
    "The skills most important to my potential future careers, other than the more obvious general skills listed in Question 8.1, include proficiency in scripting, programming, and query languages (with a specific emphasis on SQL), a deep understanding of database design, modeling, and DBMSes, data security, performance optimization, and familiarity with essential tools like DevOps tools and version control systems. These skills can be built through taking courses in the area and practical experience from personal projects and co-op programs.\n",
    "\n",
    "##### Question 8.5:\n",
    "Although the advice seems helpful, it's difficult to judge how credible it is. I have no way of knowing if the given information is outdated in relation to the current industry or if it is even accurate at all due to the lack of sources and evidence. I felt the information provided was overly generic, so the next steps I'd take to pursue the conversation further would be to ask it to provide specific examples of real-life tasks that might be asked of someone in such a career to get a more thorough understanding of exactly what kind of knowledge is required. Preferably, however, I'd seek the opinions of professionals with experience in the field."
   ]
  },
  {
   "cell_type": "markdown",
   "id": "21bd007d",
   "metadata": {},
   "source": [
    "##### Question 9:\n",
    "No."
   ]
  }
 ],
 "metadata": {
  "kernelspec": {
   "display_name": "Python 3 (ipykernel)",
   "language": "python",
   "name": "python3"
  },
  "language_info": {
   "codemirror_mode": {
    "name": "ipython",
    "version": 3
   },
   "file_extension": ".py",
   "mimetype": "text/x-python",
   "name": "python",
   "nbconvert_exporter": "python",
   "pygments_lexer": "ipython3",
   "version": "3.11.6"
  }
 },
 "nbformat": 4,
 "nbformat_minor": 5
}
